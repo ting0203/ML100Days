{
 "cells": [
  {
   "cell_type": "markdown",
   "metadata": {},
   "source": [
    "### 在windows環境下的 Docker 安裝 mongodb\n",
    "\n",
    "docker pull mongo:latest\n",
    "\n",
    "### 確認是否安裝成功\n",
    "\n",
    "docker images\n",
    "\n",
    "### 使用以下命令來運行 mongo 容器：\n",
    "\n",
    "docker run -itd --name mongo -p 27017:27017 mongo --auth\n",
    "\n",
    "### 確認執行的Docker 程式\n",
    "\n",
    "docker ps\n",
    "\n",
    "### 啟動mongo\n",
    "docker exec -it mongo mongo admin \n",
    "\n",
    "\n",
    "### 創建一個名為 admin，密碼為 123456 的用戶。\n",
    "db.createUser({ user:'admin'pwd:'123456', roles:[{role:'userAdminAnyDatabase', db:'admin’},\"readWriteAnyDatabase\"]});\n",
    "\n",
    "### 嘗試使用上面創建的使用者資訊進行連接。\n",
    "db.auth('admin', '123456') \n",
    "\n",
    "### 進入Docker容器\n",
    "docker exec -it mongo bash\n"
   ]
  },
  {
   "cell_type": "markdown",
   "metadata": {},
   "source": [
    "### 修改 mongo 設定檔 \n",
    "\n",
    "vim /etc/mongod.conf.orig\n",
    "#bindIp: 127.0.0.1\n",
    "或\n",
    "bindIp: 0.0.0.0\n"
   ]
  },
  {
   "cell_type": "markdown",
   "metadata": {},
   "source": [
    "### 在本機環境cmd輸入\n",
    "\n",
    "mongo --port 27017 -u \"testuser\" -p \"testpassword\" --authenticationDatabase \"admin\" "
   ]
  },
  {
   "cell_type": "markdown",
   "metadata": {},
   "source": [
    " "
   ]
  }
 ],
 "metadata": {
  "kernelspec": {
   "display_name": "Python 3",
   "language": "python",
   "name": "python3"
  },
  "language_info": {
   "codemirror_mode": {
    "name": "ipython",
    "version": 3
   },
   "file_extension": ".py",
   "mimetype": "text/x-python",
   "name": "python",
   "nbconvert_exporter": "python",
   "pygments_lexer": "ipython3",
   "version": "3.7.9"
  }
 },
 "nbformat": 4,
 "nbformat_minor": 4
}
